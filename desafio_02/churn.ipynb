{
 "cells": [
  {
   "cell_type": "code",
   "execution_count": 148,
   "metadata": {},
   "outputs": [],
   "source": [
    "import pandas as pd\n",
    "import numpy as np\n",
    "\n",
    "test_path = './data/df_test.csv'\n",
    "train_path = './data/df_train.csv'\n",
    "\n",
    "test_df = pd.read_csv(test_path)\n",
    "train_df = pd.read_csv(train_path)\n"
   ]
  },
  {
   "cell_type": "markdown",
   "metadata": {},
   "source": [
    "## Tarefas\n",
    "\n",
    "1. Realize uma análise exploratória dos dados e responda às seguintes questões: \n",
    "\n",
    "    i. Existe alguma cidade com taxa de churn significativamente maior? \n",
    "    \n",
    "    ii. O churn é mais prevalente entre clientes recentes ou antigos? Quais serviços são menos utilizados?\n",
    "\n",
    "2. Compare os resultados obtidos entre uma árvore de decisão e uma floresta aleatória\n",
    "em termos de precisão na classificação de churn de clientes. Avalie também outras\n",
    "métricas relevantes, como recall e F1-score, para entender melhor a eficácia de cada\n",
    "modelo na previsão de churn.\n",
    "\n",
    "3. Demonstre o uso da validação cruzada para avaliar o desempenho de um modelo de\n",
    "machine learning. Inclua uma descrição dos tipos comuns de validação cruzada e como\n",
    "cada um pode ser aplicado para melhorar a generalização do modelo.\n",
    "\n",
    "4. Como a aplicação de técnicas de redução de dimensionalidade, como PCA (Análise de\n",
    "Componentes Principais), afeta o desempenho dos modelos de predição de churn?\n",
    "A entrega é individual e deverá ser colocada no seu GitHub pessoal."
   ]
  },
  {
   "cell_type": "markdown",
   "metadata": {},
   "source": [
    "### 1.1 existe alguma cidade com taxa de churn significativamente maior? \n",
    "\n",
    "Análise city x churn"
   ]
  },
  {
   "cell_type": "code",
   "execution_count": 149,
   "metadata": {},
   "outputs": [
    {
     "data": {
      "text/plain": [
       "array(['Los Angeles', 'Dulzura', 'San Jose', ..., 'Fawnskin', 'Leggett',\n",
       "       'Korbel'], dtype=object)"
      ]
     },
     "execution_count": 149,
     "metadata": {},
     "output_type": "execute_result"
    }
   ],
   "source": [
    "train_df['City'].unique()"
   ]
  },
  {
   "cell_type": "code",
   "execution_count": 150,
   "metadata": {},
   "outputs": [
    {
     "data": {
      "text/plain": [
       "City\n",
       "Los Angeles      270\n",
       "San Diego        130\n",
       "San Jose          94\n",
       "San Francisco     91\n",
       "Sacramento        90\n",
       "Fresno            58\n",
       "Long Beach        52\n",
       "Oakland           39\n",
       "Stockton          36\n",
       "Glendale          34\n",
       "Bakersfield       31\n",
       "Riverside         30\n",
       "Whittier          28\n",
       "Modesto           25\n",
       "Anaheim           24\n",
       "Berkeley          24\n",
       "Santa Barbara     24\n",
       "Irvine            24\n",
       "Pasadena          23\n",
       "Burbank           23\n",
       "Name: count, dtype: int64"
      ]
     },
     "execution_count": 150,
     "metadata": {},
     "output_type": "execute_result"
    }
   ],
   "source": [
    "train_df['City'].value_counts().head(20)"
   ]
  },
  {
   "cell_type": "markdown",
   "metadata": {},
   "source": [
    "Codificar valores de Yes e No em todas as colunas para facilitar a análise "
   ]
  },
  {
   "cell_type": "code",
   "execution_count": 151,
   "metadata": {},
   "outputs": [
    {
     "name": "stderr",
     "output_type": "stream",
     "text": [
      "/tmp/ipykernel_405604/1272574614.py:1: FutureWarning: Downcasting behavior in `replace` is deprecated and will be removed in a future version. To retain the old behavior, explicitly call `result.infer_objects(copy=False)`. To opt-in to the future behavior, set `pd.set_option('future.no_silent_downcasting', True)`\n",
      "  train_df = train_df.replace({'Yes': 1, 'No': 0})\n"
     ]
    },
    {
     "data": {
      "text/plain": [
       "0       0\n",
       "1       0\n",
       "2       0\n",
       "3       0\n",
       "4       1\n",
       "       ..\n",
       "5981    0\n",
       "5982    0\n",
       "5983    0\n",
       "5984    0\n",
       "5985    1\n",
       "Name: Churn Label, Length: 5986, dtype: int64"
      ]
     },
     "execution_count": 151,
     "metadata": {},
     "output_type": "execute_result"
    }
   ],
   "source": [
    "train_df = train_df.replace({'Yes': 1, 'No': 0})\n",
    "train_df['Churn Label']"
   ]
  },
  {
   "cell_type": "markdown",
   "metadata": {},
   "source": [
    "A partir das cinco primeiras cidades com o maior numero de aparições as cidades começam a aparecer muito pouco nos dados, então foi decidido analisar as cinco primeiras cidades com maior numero de aparições e caluclar a taxa de churn em cima delas."
   ]
  },
  {
   "cell_type": "code",
   "execution_count": 152,
   "metadata": {},
   "outputs": [
    {
     "name": "stdout",
     "output_type": "stream",
     "text": [
      "City\n",
      "Los Angeles      0.300000\n",
      "San Diego        0.300000\n",
      "San Jose         0.276596\n",
      "San Francisco    0.274725\n",
      "Sacramento       0.244444\n",
      "Name: Churn Label, dtype: float64\n"
     ]
    }
   ],
   "source": [
    "\n",
    "top_5_cities = train_df['City'].value_counts().head(5).index\n",
    "filtered_df = train_df[train_df['City'].isin(top_5_cities)]\n",
    "churn_rates = filtered_df.groupby('City')['Churn Label'].mean().sort_values(ascending=False)\n",
    "print(churn_rates)"
   ]
  },
  {
   "cell_type": "code",
   "execution_count": 153,
   "metadata": {},
   "outputs": [
    {
     "data": {
      "image/png": "[encoded data removed]",
      "text/plain": [
       "<Figure size 640x480 with 1 Axes>"
      ]
     },
     "metadata": {},
     "output_type": "display_data"
    }
   ],
   "source": [
    "import matplotlib.pyplot as plt\n",
    "\n",
    "cities = list(churn_rates.index)  # Nomes das cidades\n",
    "values = list(churn_rates.values)  # Taxas de churn\n",
    "\n",
    "plt.bar(cities, values)\n",
    "\n",
    "plt.xlabel('Cidades')\n",
    "plt.ylabel('Taxa de Churn')\n",
    "plt.title('Taxa de Churn por Cidade')\n",
    "\n",
    "plt.show()"
   ]
  },
  {
   "cell_type": "markdown",
   "metadata": {},
   "source": [
    "### 1.2 O churn é mais prevalente entre clientes recentes ou antigos? Quais serviços são menos utilizados?\n",
    "\n",
    "Análise tenure x churn"
   ]
  },
  {
   "cell_type": "markdown",
   "metadata": {},
   "source": [
    "O que é possível identificar nessa análise?\n",
    "\n",
    "1. Algumas colunas tem apenas um valor possível (Count,Country,State)\n",
    "\n"
   ]
  },
  {
   "cell_type": "code",
   "execution_count": 154,
   "metadata": {},
   "outputs": [
    {
     "name": "stdout",
     "output_type": "stream",
     "text": [
      "(3, ['Count', 'Country', 'State'])\n"
     ]
    }
   ],
   "source": [
    "# Checar quantas colunas tem apenas um valor\n",
    "\n",
    "def count_single_value_columns(df):\n",
    "    single_value_columns = [col for col in df.columns if df[col].nunique() == 1]\n",
    "    return len(single_value_columns), single_value_columns\n",
    "\n",
    "single_value_columns = count_single_value_columns(train_df)\n",
    "\n",
    "print(single_value_columns)\n"
   ]
  },
  {
   "cell_type": "code",
   "execution_count": 155,
   "metadata": {},
   "outputs": [],
   "source": [
    "dropped_train = train_df.drop(single_value_columns[1],axis=1)\n",
    "dropped_test = test_df.drop(single_value_columns[1],axis=1)"
   ]
  },
  {
   "cell_type": "code",
   "execution_count": 156,
   "metadata": {},
   "outputs": [
    {
     "name": "stdout",
     "output_type": "stream",
     "text": [
      "<class 'pandas.core.frame.DataFrame'>\n",
      "RangeIndex: 5986 entries, 0 to 5985\n",
      "Data columns (total 27 columns):\n",
      " #   Column             Non-Null Count  Dtype  \n",
      "---  ------             --------------  -----  \n",
      " 0   CustomerID         5986 non-null   object \n",
      " 1   City               5986 non-null   object \n",
      " 2   Zip Code           5986 non-null   int64  \n",
      " 3   Lat Long           5986 non-null   object \n",
      " 4   Latitude           5986 non-null   float64\n",
      " 5   Longitude          5986 non-null   object \n",
      " 6   Gender             5986 non-null   object \n",
      " 7   Senior Citizen     5986 non-null   int64  \n",
      " 8   Partner            5986 non-null   int64  \n",
      " 9   Dependents         5986 non-null   int64  \n",
      " 10  Tenure Months      5986 non-null   int64  \n",
      " 11  Phone Service      5986 non-null   int64  \n",
      " 12  Multiple Lines     5986 non-null   object \n",
      " 13  Internet Service   5986 non-null   object \n",
      " 14  Online Security    5986 non-null   object \n",
      " 15  Online Backup      5986 non-null   object \n",
      " 16  Device Protection  5986 non-null   object \n",
      " 17  Tech Support       5986 non-null   object \n",
      " 18  Streaming TV       5986 non-null   object \n",
      " 19  Streaming Movies   5986 non-null   object \n",
      " 20  Contract           5986 non-null   object \n",
      " 21  Paperless Billing  5986 non-null   int64  \n",
      " 22  Payment Method     5986 non-null   object \n",
      " 23  Monthly Charges    5986 non-null   float64\n",
      " 24  Total Charges      5986 non-null   object \n",
      " 25  Churn Label        5986 non-null   int64  \n",
      " 26  CLTV               5986 non-null   int64  \n",
      "dtypes: float64(2), int64(9), object(16)\n",
      "memory usage: 1.2+ MB\n"
     ]
    }
   ],
   "source": [
    "dropped_train.info()"
   ]
  },
  {
   "cell_type": "markdown",
   "metadata": {},
   "source": [
    "A coluna Lat Long ja é divida e representada pelas colunas latitude e longitude e também pode ser eliminada"
   ]
  },
  {
   "cell_type": "code",
   "execution_count": 157,
   "metadata": {},
   "outputs": [],
   "source": [
    "dropped_train = dropped_train.drop('Lat Long',axis=1)\n",
    "dropped_test = dropped_test.drop('Lat Long',axis=1)"
   ]
  },
  {
   "cell_type": "code",
   "execution_count": 158,
   "metadata": {},
   "outputs": [
    {
     "name": "stdout",
     "output_type": "stream",
     "text": [
      "<class 'pandas.core.frame.DataFrame'>\n",
      "RangeIndex: 5986 entries, 0 to 5985\n",
      "Data columns (total 26 columns):\n",
      " #   Column             Non-Null Count  Dtype  \n",
      "---  ------             --------------  -----  \n",
      " 0   CustomerID         5986 non-null   object \n",
      " 1   City               5986 non-null   object \n",
      " 2   Zip Code           5986 non-null   int64  \n",
      " 3   Latitude           5986 non-null   float64\n",
      " 4   Longitude          5986 non-null   object \n",
      " 5   Gender             5986 non-null   object \n",
      " 6   Senior Citizen     5986 non-null   int64  \n",
      " 7   Partner            5986 non-null   int64  \n",
      " 8   Dependents         5986 non-null   int64  \n",
      " 9   Tenure Months      5986 non-null   int64  \n",
      " 10  Phone Service      5986 non-null   int64  \n",
      " 11  Multiple Lines     5986 non-null   object \n",
      " 12  Internet Service   5986 non-null   object \n",
      " 13  Online Security    5986 non-null   object \n",
      " 14  Online Backup      5986 non-null   object \n",
      " 15  Device Protection  5986 non-null   object \n",
      " 16  Tech Support       5986 non-null   object \n",
      " 17  Streaming TV       5986 non-null   object \n",
      " 18  Streaming Movies   5986 non-null   object \n",
      " 19  Contract           5986 non-null   object \n",
      " 20  Paperless Billing  5986 non-null   int64  \n",
      " 21  Payment Method     5986 non-null   object \n",
      " 22  Monthly Charges    5986 non-null   float64\n",
      " 23  Total Charges      5986 non-null   object \n",
      " 24  Churn Label        5986 non-null   int64  \n",
      " 25  CLTV               5986 non-null   int64  \n",
      "dtypes: float64(2), int64(9), object(15)\n",
      "memory usage: 1.2+ MB\n"
     ]
    }
   ],
   "source": [
    "dropped_train.info()"
   ]
  }
 ],
 "metadata": {
  "kernelspec": {
   "display_name": ".venv",
   "language": "python",
   "name": "python3"
  },
  "language_info": {
   "codemirror_mode": {
    "name": "ipython",
    "version": 3
   },
   "file_extension": ".py",
   "mimetype": "text/x-python",
   "name": "python",
   "nbconvert_exporter": "python",
   "pygments_lexer": "ipython3",
   "version": "3.10.12"
  }
 },
 "nbformat": 4,
 "nbformat_minor": 2
}
