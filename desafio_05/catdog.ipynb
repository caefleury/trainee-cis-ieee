{
 "cells": [
  {
   "cell_type": "markdown",
   "metadata": {},
   "source": [
    "# Treinamento CIS - 5 Período"
   ]
  },
  {
   "cell_type": "code",
   "execution_count": 4,
   "metadata": {},
   "outputs": [],
   "source": [
    "import os\n",
    "data = 'archive/animals'\n",
    "train = os.path.join(data, 'train')\n",
    "validate = os.path.join(data, 'validation')\n"
   ]
  },
  {
   "cell_type": "code",
   "execution_count": 5,
   "metadata": {},
   "outputs": [],
   "source": [
    "import os\n",
    "import shutil\n",
    "import random\n",
    "from pathlib import Path\n",
    "\n",
    "\n",
    "ORIGINAL_BASE_DIR = 'archive/animals/animals'\n",
    "NEW_BASE_DIR = 'animals' \n",
    "TRAIN_DIR = os.path.join(NEW_BASE_DIR, 'train')\n",
    "VALIDATION_DIR = os.path.join(NEW_BASE_DIR, 'validation')\n",
    "CLASSES = ['cats', 'dogs', 'panda']\n",
    "TRAIN_SPLIT_RATIO = 0.8\n",
    "\n",
    "# Cria novo dir base e subdirs para conjuntos de treino e validação\n",
    "Path(NEW_BASE_DIR).mkdir(parents=True, exist_ok=True)\n",
    "for class_name in CLASSES:\n",
    "    Path(os.path.join(TRAIN_DIR, class_name)).mkdir(parents=True, exist_ok=True)\n",
    "    Path(os.path.join(VALIDATION_DIR, class_name)).mkdir(parents=True, exist_ok=True)\n",
    "\n",
    "def move_images_to_new_directories(class_name):\n",
    "    \"\"\"Move imagens para novos diretórios de treino e validação com base na proporção de divisão.\"\"\"\n",
    "    class_dir = os.path.join(ORIGINAL_BASE_DIR, class_name)\n",
    "    images = os.listdir(class_dir)\n",
    "    random.shuffle(images)\n",
    "\n",
    "    train_size = int(len(images) * TRAIN_SPLIT_RATIO)\n",
    "\n",
    "    # Divide imagens em conjuntos de treino e validação\n",
    "    train_images = images[:train_size]\n",
    "    validation_images = images[train_size:]\n",
    "\n",
    "    for image in train_images:\n",
    "        shutil.copy(os.path.join(class_dir, image), os.path.join(TRAIN_DIR, class_name, image))\n",
    "    for image in validation_images:\n",
    "        shutil.copy(os.path.join(class_dir, image), os.path.join(VALIDATION_DIR, class_name, image))\n",
    "\n",
    "for class_name in CLASSES:\n",
    "    move_images_to_new_directories(class_name)\n"
   ]
  }
 ],
 "metadata": {
  "kernelspec": {
   "display_name": ".venv",
   "language": "python",
   "name": "python3"
  },
  "language_info": {
   "codemirror_mode": {
    "name": "ipython",
    "version": 3
   },
   "file_extension": ".py",
   "mimetype": "text/x-python",
   "name": "python",
   "nbconvert_exporter": "python",
   "pygments_lexer": "ipython3",
   "version": "3.10.12"
  }
 },
 "nbformat": 4,
 "nbformat_minor": 2
}
